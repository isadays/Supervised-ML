{
  "nbformat": 4,
  "nbformat_minor": 0,
  "metadata": {
    "colab": {
      "provenance": []
    },
    "kernelspec": {
      "name": "python3",
      "display_name": "Python 3"
    },
    "language_info": {
      "name": "python"
    }
  },
  "cells": [
    {
      "cell_type": "code",
      "execution_count": null,
      "metadata": {
        "id": "XnB8e2AbyCjS"
      },
      "outputs": [],
      "source": [
        "# MBA DATA SCIENCE & ANALYTICS USP/Esalq\n",
        "#Supervised ML - SIMPLE AND MULTIPLE REGRESSION ANALYSIS\n",
        "#Isabela Pereira Lima Dias"
      ]
    },
    {
      "cell_type": "code",
      "source": [
        "import pandas as pd\n",
        "import seaborn as sns\n",
        "import matplotlib.pyplot as plt\n",
        "import statsmodels.api as sm\n",
        "import numpy as np\n",
        "from statsmodels.iolib.summary2 import summary_col\n",
        "from skimage import io\n",
        "import plotly.graph_objs as go\n",
        "from scipy.stats import pearsonr\n",
        "from sklearn.preprocessing import LabelEncoder"
      ],
      "metadata": {
        "id": "e1fl_eTby-zO"
      },
      "execution_count": null,
      "outputs": []
    },
    {
      "cell_type": "code",
      "source": [
        "#dataset\n",
        "df = pd.read_csv(\"corruption.csv\", delimiter= \",\")\n",
        "df.rename(columns = {'pais':'country', 'regiao':'region'}, inplace = True)\n",
        "df"
      ],
      "metadata": {
        "id": "rv-VNuc6zBjh"
      },
      "execution_count": null,
      "outputs": []
    },
    {
      "cell_type": "markdown",
      "source": [
        "Data visualization"
      ],
      "metadata": {
        "id": "Mneu4D5zz_QE"
      }
    },
    {
      "source": [
        "#Distributions\n",
        "df['cpi'].plot(kind='hist', bins=20, title='cpi')\n",
        "plt.gca().spines[['top', 'right',]].set_visible(False)"
      ],
      "cell_type": "code",
      "metadata": {
        "id": "vFw14Aq2zfou"
      },
      "execution_count": null,
      "outputs": []
    },
    {
      "source": [
        "#Values\n",
        "df['cpi'].plot(kind='line', figsize=(8, 4), title='cpi')\n",
        "plt.gca().spines[['top', 'right']].set_visible(False)"
      ],
      "cell_type": "code",
      "metadata": {
        "id": "j0hZCPsJzbk1"
      },
      "execution_count": null,
      "outputs": []
    },
    {
      "source": [
        "#Faceted distributions\n",
        "figsize = (12, 1.2 * len(df['region'].unique()))\n",
        "plt.figure(figsize=figsize)\n",
        "sns.violinplot(df, x='cpi', y='region', inner='stick', palette='Dark2')\n",
        "sns.despine(top=True, right=True, bottom=True, left=True)"
      ],
      "cell_type": "code",
      "metadata": {
        "id": "iMKR5SHtzXd8"
      },
      "execution_count": null,
      "outputs": []
    },
    {
      "source": [
        "#Categorical distributions\n",
        "df.groupby('region').size().plot(kind='barh', color=sns.palettes.mpl_palette('Dark2'))\n",
        "plt.gca().spines[['top', 'right',]].set_visible(False)"
      ],
      "cell_type": "code",
      "metadata": {
        "id": "fgxhsrU1zTaL"
      },
      "execution_count": null,
      "outputs": []
    },
    {
      "cell_type": "code",
      "source": [
        "df.info()\n",
        "df.describe()"
      ],
      "metadata": {
        "id": "D-aR-DRv0FKs"
      },
      "execution_count": null,
      "outputs": []
    },
    {
      "source": [
        "_df_0['cpi'].plot(kind='hist', bins=20, title='cpi')\n",
        "plt.gca().spines[['top', 'right',]].set_visible(False)"
      ],
      "cell_type": "code",
      "metadata": {
        "id": "TbQloRRc0OaD"
      },
      "execution_count": null,
      "outputs": []
    },
    {
      "cell_type": "code",
      "source": [
        "df.groupby('region').describe()"
      ],
      "metadata": {
        "id": "EHUquFze0HsI"
      },
      "execution_count": null,
      "outputs": []
    },
    {
      "cell_type": "code",
      "source": [
        "#Frequency table\n",
        "count = df['region'].value_counts(dropna=False)\n",
        "percent = df['region'].value_counts(dropna=False, normalize=True)\n",
        "pd.concat([count,percent],axis=1, keys=[\"count\", \"%\"],sort=False)"
      ],
      "metadata": {
        "id": "8QwId9oX0nk-"
      },
      "execution_count": null,
      "outputs": []
    },
    {
      "cell_type": "code",
      "source": [
        "# REGION AS NUMERIC ( FOR DUMMY VARIABLES)\n",
        "label_encoder = LabelEncoder()\n",
        "df['numeric_region'] =label_encoder.fit_transform(df['region'])\n",
        "df['numeric_region'] = df['numeric_region'] + 1\n",
        "df.head(10)\n"
      ],
      "metadata": {
        "id": "xpypssK92U8e"
      },
      "execution_count": null,
      "outputs": []
    },
    {
      "source": [
        "_df_4.groupby('region').size().plot(kind='barh', color=sns.palettes.mpl_palette('Dark2'))\n",
        "plt.gca().spines[['top', 'right',]].set_visible(False)"
      ],
      "cell_type": "code",
      "metadata": {
        "id": "06WtI1ur3lBY"
      },
      "execution_count": null,
      "outputs": []
    },
    {
      "source": [
        "_df_5.plot(kind='scatter', x='cpi', y='numeric_region', s=32, alpha=.8)\n",
        "plt.gca().spines[['top', 'right',]].set_visible(False)"
      ],
      "cell_type": "code",
      "metadata": {
        "id": "bCrnY6Ka3hDZ"
      },
      "execution_count": null,
      "outputs": []
    },
    {
      "source": [
        "figsize = (12, 1.2 * len(_df_8['region'].unique()))\n",
        "plt.figure(figsize=figsize)\n",
        "sns.violinplot(_df_8, x='cpi', y='region', inner='stick', palette='Dark2')\n",
        "sns.despine(top=True, right=True, bottom=True, left=True)"
      ],
      "cell_type": "code",
      "metadata": {
        "id": "gGQJdom23gFq"
      },
      "execution_count": null,
      "outputs": []
    },
    {
      "source": [
        "_df_3['numeric_region'].plot(kind='hist', bins=20, title='numeric_region')\n",
        "plt.gca().spines[['top', 'right',]].set_visible(False)"
      ],
      "cell_type": "code",
      "metadata": {
        "id": "R9w_6-FZ3eQx"
      },
      "execution_count": null,
      "outputs": []
    },
    {
      "cell_type": "code",
      "source": [
        "df['numeric_region'].describe()"
      ],
      "metadata": {
        "id": "j2FTHJYd1S9A"
      },
      "execution_count": null,
      "outputs": []
    },
    {
      "cell_type": "markdown",
      "source": [
        "Note from the above example that: treating the variable region as numeric characterizes an arbitrary ponderation. For instance, See Categorical distributions graphs. The solution is to treat the variable 'region' as dummy!!\n"
      ],
      "metadata": {
        "id": "3ImLb22n4JRf"
      }
    },
    {
      "cell_type": "code",
      "source": [
        "df_dummies = pd.get_dummies(df, columns=['region'], drop_first=True)\n",
        "df_dummies.head(10)"
      ],
      "metadata": {
        "id": "qX_RPNBX4I4z"
      },
      "execution_count": null,
      "outputs": []
    },
    {
      "cell_type": "code",
      "source": [
        "# Regression model with n-1 dummies\n",
        "model_dummies = sm.OLS.from_formula( \"cpi ~ region_Asia + \\\n",
        "region_EUA_e_Canada\t + \\\n",
        "region_Europa + \\\n",
        "region_Oceania\",df_dummies).fit()"
      ],
      "metadata": {
        "id": "wniE_TsL51DR"
      },
      "execution_count": null,
      "outputs": []
    },
    {
      "cell_type": "code",
      "source": [
        "model_dummies.summary()"
      ],
      "metadata": {
        "id": "7JZwluVb6r7r"
      },
      "execution_count": null,
      "outputs": []
    },
    {
      "cell_type": "code",
      "source": [
        "# Alternative way -> when we have many dummies on the dataset\n",
        "columns_list = list(df_dummies.drop(columns=['cpi','country','numeric_region']).columns)\n",
        "model_dummies_formula = ' + '.join(columns_list)\n",
        "model_dummies_formula = \"cpi ~ \" + model_dummies_formula\n",
        "print(\"Formula: \",model_dummies_formula)\n",
        "\n",
        "model_dummies = sm.OLS.from_formula(model_dummies_formula,\n",
        "                                               df_dummies).fit()"
      ],
      "metadata": {
        "id": "JNr-34NP69C1"
      },
      "execution_count": null,
      "outputs": []
    },
    {
      "cell_type": "code",
      "source": [
        "model_dummies.summary()"
      ],
      "metadata": {
        "id": "T8KG-lCS73HD"
      },
      "execution_count": null,
      "outputs": []
    },
    {
      "cell_type": "code",
      "source": [
        "# Graphs of our dummy model\n",
        "df_dummies['fitted'] = model_dummies.fittedvalues\n",
        "df_dummies.head()"
      ],
      "metadata": {
        "id": "5ojehCXz8Q7B"
      },
      "execution_count": null,
      "outputs": []
    },
    {
      "source": [
        "_df_26.groupby('country').size().plot(kind='barh', color=sns.palettes.mpl_palette('Dark2'))\n",
        "plt.gca().spines[['top', 'right',]].set_visible(False)"
      ],
      "cell_type": "code",
      "metadata": {
        "id": "I30VNKuQ8obf"
      },
      "execution_count": null,
      "outputs": []
    },
    {
      "cell_type": "code",
      "source": [
        "#Plotting our model\n",
        "from scipy import interpolate\n",
        "plt.figure(figsize=(10,10))\n",
        "df2 = df_dummies[[\"numeric_region\", \"fitted\"]].groupby(['numeric_region']).median().reset_index()\n",
        "x=df2[\"numeric_region\"]\n",
        "y = df2[\"fitted\"]\n",
        "\n",
        "tck = interpolate.splrep(x,y, k=2)\n",
        "xnew = np.arange(1,5,0.1)\n",
        "ynew = interpolate.splev(xnew, tck, der=0)\n",
        "\n",
        "\n",
        "def label_point(x, y, val, ax):\n",
        "    a = pd.concat({'x': x, 'y': y, 'val': val}, axis=1)\n",
        "    for i, point in a.iterrows():\n",
        "        ax.text(point['x']+.02, point['y'], str(point['val']) + \" \" + str(point['y']))\n",
        "\n",
        "plt.scatter(df_dummies['numeric_region'], df_dummies['cpi'])\n",
        "plt.scatter(df_dummies['numeric_region'], df_dummies['fitted'])\n",
        "plt.plot(xnew, ynew)\n",
        "plt.title('Arbitrary ponderation')\n",
        "plt.xlabel('Region')\n",
        "plt.ylabel('Corruption Perception Index')\n",
        "label_point(x = df['numeric_region'],\n",
        "            y = df['cpi'],\n",
        "            val = df['country'],\n",
        "            ax = plt.gca())"
      ],
      "metadata": {
        "id": "ysVlk_S680Wv"
      },
      "execution_count": null,
      "outputs": []
    }
  ]
}