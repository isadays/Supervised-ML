{
  "nbformat": 4,
  "nbformat_minor": 0,
  "metadata": {
    "colab": {
      "provenance": []
    },
    "kernelspec": {
      "name": "python3",
      "display_name": "Python 3"
    },
    "language_info": {
      "name": "python"
    }
  },
  "cells": [
    {
      "cell_type": "code",
      "execution_count": null,
      "metadata": {
        "id": "XnB8e2AbyCjS"
      },
      "outputs": [],
      "source": [
        "# MBA DATA SCIENCE & ANALYTICS USP/Esalq\n",
        "#Supervised ML - SIMPLE AND MULTIPLE REGRESSION ANALYSIS\n",
        "#Isabela Pereira Lima Dias"
      ]
    },
    {
      "cell_type": "code",
      "source": [
        "import pandas as pd\n",
        "import seaborn as sns\n",
        "import matplotlib.pyplot as plt\n",
        "import statsmodels.api as sm\n",
        "import numpy as np\n",
        "from statsmodels.iolib.summary2 import summary_col\n",
        "from skimage import io\n",
        "import plotly.graph_objs as go\n",
        "from scipy.stats import pearsonr\n",
        "from sklearn.preprocessing import LabelEncoder"
      ],
      "metadata": {
        "id": "e1fl_eTby-zO"
      },
      "execution_count": null,
      "outputs": []
    },
    {
      "cell_type": "code",
      "source": [
        "#dataset\n",
        "df = pd.read_csv(\"babies.csv\", delimiter= \",\")\n",
        "df.rename(columns = {'comprimento':'length', 'idade':'age'}, inplace = True)\n",
        "df"
      ],
      "metadata": {
        "id": "rv-VNuc6zBjh"
      },
      "execution_count": null,
      "outputs": []
    },
    {
      "source": [
        "df.plot(kind='scatter', x='age', y='length', title='Dispersion', s=32, alpha=.5)\n",
        "plt.gca().spines[['top', 'right',]].set_visible(False)"
      ],
      "cell_type": "code",
      "metadata": {
        "id": "LqEEMxC4CVpD"
      },
      "execution_count": null,
      "outputs": []
    },
    {
      "source": [
        "df['length'].plot(kind='hist', bins=20, title='length')\n",
        "plt.gca().spines[['top', 'right',]].set_visible(False)"
      ],
      "cell_type": "code",
      "metadata": {
        "id": "y0bFFOBcCU0o"
      },
      "execution_count": null,
      "outputs": []
    },
    {
      "cell_type": "code",
      "source": [
        "df['age'].plot(kind='hist', bins=20, title='age')\n",
        "plt.gca().spines[['top', 'right',]].set_visible(False)"
      ],
      "metadata": {
        "id": "-ZdL6omaChCr"
      },
      "execution_count": null,
      "outputs": []
    },
    {
      "cell_type": "code",
      "source": [
        "#Linear model\n",
        "linear_model = sm.OLS.from_formula(\"length ~ age\", df).fit()\n",
        "linear_model.summary()"
      ],
      "metadata": {
        "id": "FAgdHP6hDQew"
      },
      "execution_count": null,
      "outputs": []
    },
    {
      "cell_type": "code",
      "source": [
        "#graph with non-linear (plum) and linear fits (lightblue)\n",
        "plt.figure(figsize=(10,10))\n",
        "sns.regplot(x=\"age\", y=\"length\", data=df,\n",
        "            x_estimator=np.mean, logx=True, color='plum')\n",
        "plt.plot(df['age'],linear_model.fittedvalues, color='lightblue')\n",
        "plt.title('Dispersion', fontsize=17)\n",
        "plt.xlabel('Age(weeks)', fontsize=16)\n",
        "plt.ylabel('Length(cm)', fontsize=16)\n",
        "plt.show()\n"
      ],
      "metadata": {
        "id": "-RNc75njDsrJ"
      },
      "execution_count": null,
      "outputs": []
    },
    {
      "cell_type": "markdown",
      "source": [
        "Technical analysis"
      ],
      "metadata": {
        "id": "p3kPxp0hEoH-"
      }
    },
    {
      "cell_type": "code",
      "source": [
        "#Shapiro-Wilk test <- normality  test (n<30)\n",
        "from scipy.stats import shapiro\n",
        "shapiro(linear_model.resid) #residuals"
      ],
      "metadata": {
        "id": "gzsLLiIJErm6"
      },
      "execution_count": null,
      "outputs": []
    },
    {
      "cell_type": "code",
      "source": [
        "#Shapiro- Francia test (n>=30)\n",
        "# Function 'shapiroFrancia' of package'sfrancia'\n",
        "# Authors: Luiz Paulo Fávero e Helder Prado Santos\n",
        "#!pip install sfrancia==1.0.8\n",
        "from sfrancia import shapiroFrancia\n",
        "shapiroFrancia(linear_model.resid)\n"
      ],
      "metadata": {
        "id": "jr65x5zDFDwH"
      },
      "execution_count": null,
      "outputs": []
    },
    {
      "cell_type": "code",
      "source": [
        "plt.figure(figsize=(10,10))\n",
        "sns.histplot(data=linear_model.resid, kde=True, bins=30)\n",
        "plt.xlabel('Residuals', fontsize=16)\n",
        "plt.ylabel('Frequency', fontsize=16)\n",
        "plt.show()"
      ],
      "metadata": {
        "id": "7QHpLQLQFsbO"
      },
      "execution_count": null,
      "outputs": []
    },
    {
      "cell_type": "code",
      "source": [
        "#Box-Cox transform. Box and Cox (1964) developed a family of transformations designed to reduce nonnormality of the errors in a linear model\n",
        "#Source: https://www.css.cornell.edu/faculty/dgr2/_static/files/R_html/Transformations.html\n",
        "#(Y*) = x; lambda_ = box-cox lambda\n",
        "from scipy.stats import boxcox\n",
        "x, lambda_  = boxcox(df['length'])\n",
        "df['length_bc'] = x\n",
        "df"
      ],
      "metadata": {
        "id": "mCV-c0ijG1qr"
      },
      "execution_count": null,
      "outputs": []
    },
    {
      "source": [
        "df.plot(kind='scatter', x='length_bc', y='age', s=32, alpha=.5)\n",
        "df.plot(kind='scatter', x='length', y='age', s=32, alpha=.5)\n",
        "plt.gca().spines[['top', 'right',]].set_visible(False)"
      ],
      "cell_type": "code",
      "metadata": {
        "id": "K2bHn9QsIAwX"
      },
      "execution_count": null,
      "outputs": []
    },
    {
      "source": [
        "df['length_bc'].plot(kind='hist', bins=20, title='length_bc')\n",
        "plt.gca().spines[['top', 'right',]].set_visible(False)"
      ],
      "cell_type": "code",
      "metadata": {
        "id": "gAFQaYzAH5Pj"
      },
      "execution_count": null,
      "outputs": []
    },
    {
      "source": [
        "df['length'].plot(kind='hist', bins=20, title='length')\n",
        "plt.gca().spines[['top', 'right',]].set_visible(False)"
      ],
      "cell_type": "code",
      "metadata": {
        "id": "A9KQPGK9HyHB"
      },
      "execution_count": null,
      "outputs": []
    },
    {
      "cell_type": "code",
      "source": [
        "# Now, we can build a new model based on our box-cox transformation\n",
        "bc_model =sm.OLS.from_formula('length_bc ~ age', df).fit()\n",
        "bc_model.summary()"
      ],
      "metadata": {
        "id": "JU59dppJImr3"
      },
      "execution_count": null,
      "outputs": []
    },
    {
      "cell_type": "code",
      "source": [
        "#COMPARING THE LINEAR_MODEL AND BC_MODEL\n",
        "summary_col([linear_model,bc_model],\n",
        "            model_names=[\"Linear model\", \"Box-Cox Model \"],\n",
        "            stars=True,\n",
        "            info_dict={'N': lambda x: \"{0:d}\".format(int(x.nobs))})"
      ],
      "metadata": {
        "id": "BoZtB_FsJK3N"
      },
      "execution_count": null,
      "outputs": []
    },
    {
      "cell_type": "code",
      "source": [
        "pd.DataFrame({'R-squared OLS':[round(linear_model.rsquared,4)],\n",
        "              'R-squared Box-Cox':[round(bc_model.rsquared,4)]})"
      ],
      "metadata": {
        "id": "qiZjGeYcJ99n"
      },
      "execution_count": null,
      "outputs": []
    },
    {
      "cell_type": "code",
      "source": [
        "# Shapiro-Francia test\n",
        "shapiroFrancia(bc_model.resid)"
      ],
      "metadata": {
        "id": "QlO9i2OVKHEt"
      },
      "execution_count": null,
      "outputs": []
    },
    {
      "cell_type": "code",
      "source": [
        "plt.figure(figsize=(10,10))\n",
        "sns.histplot(data=bc_model.resid, kde=True, bins=30)\n",
        "plt.title('Histogram')\n",
        "plt.xlabel('Residuals', fontsize=16)\n",
        "plt.ylabel('Frequency', fontsize=16)\n",
        "plt.show()\n"
      ],
      "metadata": {
        "id": "7FlGAwxHKZax"
      },
      "execution_count": null,
      "outputs": []
    },
    {
      "cell_type": "markdown",
      "source": [
        "Predictions"
      ],
      "metadata": {
        "id": "lVQnced8KmzY"
      }
    },
    {
      "cell_type": "code",
      "source": [
        "linear_model.predict(pd.DataFrame({'age':[52]}))"
      ],
      "metadata": {
        "id": "TFiJwZ2qKkAr"
      },
      "execution_count": null,
      "outputs": []
    },
    {
      "cell_type": "code",
      "source": [
        "bc_model.predict(pd.DataFrame({'age':[52]}))\n",
        "(54251.109775 * lambda_ + 1) ** (1 / lambda_)"
      ],
      "metadata": {
        "id": "JfXW1kbZKyxJ"
      },
      "execution_count": null,
      "outputs": []
    },
    {
      "cell_type": "code",
      "source": [
        "# fitted values for both models\n",
        "df['yhat_linear'] = linear_model.fittedvalues\n",
        "df['yhat_bc_model'] = (bc_model.fittedvalues * lambda_ + 1) ** (1 / lambda_)"
      ],
      "metadata": {
        "id": "WiZvo9EPLBvh"
      },
      "execution_count": null,
      "outputs": []
    },
    {
      "cell_type": "code",
      "source": [
        "df"
      ],
      "metadata": {
        "id": "VKZRr7ZFLfuG"
      },
      "execution_count": null,
      "outputs": []
    },
    {
      "source": [
        "_df_7.plot(kind='scatter', x='length_bc', y='yhat_bc_model', s=32, alpha=.5)\n",
        "_df_7.plot(kind='scatter', x='length', y='age', s=32, alpha=.5)\n",
        "plt.gca().spines[['top', 'right',]].set_visible(False)"
      ],
      "cell_type": "code",
      "metadata": {
        "id": "mq45Ylc9LoQY"
      },
      "execution_count": null,
      "outputs": []
    },
    {
      "cell_type": "markdown",
      "source": [
        "Fitted values x real values"
      ],
      "metadata": {
        "id": "DqOvHqk8MbKY"
      }
    },
    {
      "cell_type": "code",
      "source": [
        "from scipy.optimize import curve_fit\n",
        "\n",
        "def objective(x, a, b, c, d, e):\n",
        "    return (a * x) + (b * x**2) + (c * x**3) + (d * x**4) + e\n",
        "\n",
        "xdata = df['length']\n",
        "ydata_linear = df['yhat_linear']\n",
        "ydata_bc = df['yhat_bc_model']\n",
        "\n",
        "plt.figure(figsize=(10,10))\n",
        "\n",
        "popt, _ = curve_fit(objective, xdata, ydata_linear)\n",
        "a, b, c, d, e = popt\n",
        "x_line = np.arange(min(xdata), max(xdata), 1)\n",
        "y_line = objective(x_line, a, b, c, d, e)\n",
        "plt.plot(x_line, y_line, '--', color='plum', linewidth=3)\n",
        "\n",
        "popt, _ = curve_fit(objective, xdata, ydata_bc)\n",
        "a, b, c, d, e = popt\n",
        "x_line = np.arange(min(xdata), max(xdata), 1)\n",
        "y_line = objective(x_line, a, b, c, d, e)\n",
        "plt.plot(x_line, y_line, '--', color='lightblue', linewidth=3)\n",
        "\n",
        "plt.plot(xdata,xdata, color='gray', linestyle='-')\n",
        "plt.scatter(xdata,ydata_linear, alpha=0.5, s=100, color='plum')\n",
        "plt.scatter(xdata,ydata_bc, alpha=0.5, s=100, color='lightblue')\n",
        "plt.xlabel('Length', fontsize=16)\n",
        "plt.ylabel('Fitted Values', fontsize=16)\n",
        "plt.legend(['OLS Linear','Box-Cox','45º'], fontsize=17)\n",
        "plt.title('Dispersion and Fitted Values', fontsize=16)\n",
        "plt.show()"
      ],
      "metadata": {
        "id": "z3_wsB6mMT2G"
      },
      "execution_count": null,
      "outputs": []
    }
  ]
}